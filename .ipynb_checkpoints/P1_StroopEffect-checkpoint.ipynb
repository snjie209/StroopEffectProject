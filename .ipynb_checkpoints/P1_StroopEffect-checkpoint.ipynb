{
 "cells": [
  {
   "cell_type": "markdown",
   "metadata": {},
   "source": [
    "# Project 1: Stroop Effect "
   ]
  },
  {
   "cell_type": "markdown",
   "metadata": {},
   "source": [
    "__Prepared By:__ Samba Reyes Njie Jr.\n",
    "\n",
    "__When:__ December 2017"
   ]
  },
  {
   "cell_type": "markdown",
   "metadata": {},
   "source": [
    "## Background Information\n",
    "In a Stroop task, participants are presented with a list of words, with each word displayed in a color of ink. The participant’s task is to say out loud the color of the ink in which the word is printed. The task has two conditions: a congruent words condition, and an incongruent words condition. \n",
    "\n",
    "+ In the congruent words condition, the words being displayed are color words whose names match the colors in which they are printed. \n",
    "\n",
    "+ In the incongruent words condition, the words displayed are color words whose names do not match the colors in which they are printed. \n",
    "\n",
    "In each case, we measure the time it takes to name the ink colors in equally-sized lists. Each participant will go through and record a time from each condition."
   ]
  },
  {
   "cell_type": "markdown",
   "metadata": {},
   "source": [
    "## Questions For Investigation\n",
    "\n",
    "\n",
    "1. What is our independent variable? What is our dependent variable?\n",
    "\n",
    "2. What is an appropriate set of hypotheses for this task? What kind of statistical test do you expect to perform? Justify your choices.\n",
    "\n",
    "Go to this [link](https://faculty.washington.edu/chudler/java/ready.html), which has a Java-based applet for performing the Stroop task. Record the times that you received on the task (you do not need to submit your times to the site.) Now, download [this dataset](https://drive.google.com/file/d/0B9Yf01UaIbUgQXpYb2NhZ29yX1U/view) which contains results from a number of participants in the task. Each row of the dataset contains the performance for one participant, with the first number their results on the congruent task and the second number their performance on the incongruent task.\n",
    "\n",
    "3. Report some descriptive statistics regarding this dataset. Include at least one measure of central tendency and at least one measure of variability.\n",
    "\n",
    "4. Provide one or two visualizations that show the distribution of the sample data. Write one or two sentences noting what you observe about the plot or plots.\n",
    "\n",
    "5. Now, perform the statistical test and report your results. What is your confidence level and your critical statistic value? Do you reject the null hypothesis or fail to reject it? Come to a conclusion in terms of the experiment task. Did the results match up with your expectations?\n",
    "\n",
    "6. Optional: What do you think is responsible for the effects observed? Can you think of an alternative or similar task that would result in a similar effect? Some research about the problem will be helpful for thinking about these two questions!"
   ]
  },
  {
   "cell_type": "markdown",
   "metadata": {},
   "source": [
    "## Prepwork"
   ]
  },
  {
   "cell_type": "code",
   "execution_count": 4,
   "metadata": {
    "collapsed": true
   },
   "outputs": [],
   "source": [
    "# Import Libraries\n",
    "import pandas as pd\n",
    "import numpy as np\n",
    "import matplotlib.pyplot as plt\n",
    "import seaborn as sns\n",
    "from scipy import stats\n",
    "%matplotlib inline\n"
   ]
  },
  {
   "cell_type": "code",
   "execution_count": 5,
   "metadata": {
    "collapsed": true
   },
   "outputs": [],
   "source": [
    "# Read in data\n",
    "data = pd.read_csv('stroopdata.csv')"
   ]
  },
  {
   "cell_type": "code",
   "execution_count": 41,
   "metadata": {},
   "outputs": [
    {
     "data": {
      "text/html": [
       "<div>\n",
       "<style>\n",
       "    .dataframe thead tr:only-child th {\n",
       "        text-align: right;\n",
       "    }\n",
       "\n",
       "    .dataframe thead th {\n",
       "        text-align: left;\n",
       "    }\n",
       "\n",
       "    .dataframe tbody tr th {\n",
       "        vertical-align: top;\n",
       "    }\n",
       "</style>\n",
       "<table border=\"1\" class=\"dataframe\">\n",
       "  <thead>\n",
       "    <tr style=\"text-align: right;\">\n",
       "      <th></th>\n",
       "      <th>Congruent</th>\n",
       "      <th>Incongruent</th>\n",
       "      <th>Difference</th>\n",
       "    </tr>\n",
       "  </thead>\n",
       "  <tbody>\n",
       "    <tr>\n",
       "      <th>0</th>\n",
       "      <td>12.079</td>\n",
       "      <td>19.278</td>\n",
       "      <td>7.199</td>\n",
       "    </tr>\n",
       "    <tr>\n",
       "      <th>1</th>\n",
       "      <td>16.791</td>\n",
       "      <td>18.741</td>\n",
       "      <td>1.950</td>\n",
       "    </tr>\n",
       "    <tr>\n",
       "      <th>2</th>\n",
       "      <td>9.564</td>\n",
       "      <td>21.214</td>\n",
       "      <td>11.650</td>\n",
       "    </tr>\n",
       "    <tr>\n",
       "      <th>3</th>\n",
       "      <td>8.630</td>\n",
       "      <td>15.687</td>\n",
       "      <td>7.057</td>\n",
       "    </tr>\n",
       "    <tr>\n",
       "      <th>4</th>\n",
       "      <td>14.669</td>\n",
       "      <td>22.803</td>\n",
       "      <td>8.134</td>\n",
       "    </tr>\n",
       "    <tr>\n",
       "      <th>5</th>\n",
       "      <td>12.238</td>\n",
       "      <td>20.878</td>\n",
       "      <td>8.640</td>\n",
       "    </tr>\n",
       "    <tr>\n",
       "      <th>6</th>\n",
       "      <td>14.692</td>\n",
       "      <td>24.572</td>\n",
       "      <td>9.880</td>\n",
       "    </tr>\n",
       "    <tr>\n",
       "      <th>7</th>\n",
       "      <td>8.987</td>\n",
       "      <td>17.394</td>\n",
       "      <td>8.407</td>\n",
       "    </tr>\n",
       "    <tr>\n",
       "      <th>8</th>\n",
       "      <td>9.401</td>\n",
       "      <td>20.762</td>\n",
       "      <td>11.361</td>\n",
       "    </tr>\n",
       "    <tr>\n",
       "      <th>9</th>\n",
       "      <td>14.480</td>\n",
       "      <td>26.282</td>\n",
       "      <td>11.802</td>\n",
       "    </tr>\n",
       "    <tr>\n",
       "      <th>10</th>\n",
       "      <td>22.328</td>\n",
       "      <td>24.524</td>\n",
       "      <td>2.196</td>\n",
       "    </tr>\n",
       "    <tr>\n",
       "      <th>11</th>\n",
       "      <td>15.298</td>\n",
       "      <td>18.644</td>\n",
       "      <td>3.346</td>\n",
       "    </tr>\n",
       "    <tr>\n",
       "      <th>12</th>\n",
       "      <td>15.073</td>\n",
       "      <td>17.510</td>\n",
       "      <td>2.437</td>\n",
       "    </tr>\n",
       "    <tr>\n",
       "      <th>13</th>\n",
       "      <td>16.929</td>\n",
       "      <td>20.330</td>\n",
       "      <td>3.401</td>\n",
       "    </tr>\n",
       "    <tr>\n",
       "      <th>14</th>\n",
       "      <td>18.200</td>\n",
       "      <td>35.255</td>\n",
       "      <td>17.055</td>\n",
       "    </tr>\n",
       "    <tr>\n",
       "      <th>15</th>\n",
       "      <td>12.130</td>\n",
       "      <td>22.158</td>\n",
       "      <td>10.028</td>\n",
       "    </tr>\n",
       "    <tr>\n",
       "      <th>16</th>\n",
       "      <td>18.495</td>\n",
       "      <td>25.139</td>\n",
       "      <td>6.644</td>\n",
       "    </tr>\n",
       "    <tr>\n",
       "      <th>17</th>\n",
       "      <td>10.639</td>\n",
       "      <td>20.429</td>\n",
       "      <td>9.790</td>\n",
       "    </tr>\n",
       "    <tr>\n",
       "      <th>18</th>\n",
       "      <td>11.344</td>\n",
       "      <td>17.425</td>\n",
       "      <td>6.081</td>\n",
       "    </tr>\n",
       "    <tr>\n",
       "      <th>19</th>\n",
       "      <td>12.369</td>\n",
       "      <td>34.288</td>\n",
       "      <td>21.919</td>\n",
       "    </tr>\n",
       "    <tr>\n",
       "      <th>20</th>\n",
       "      <td>12.944</td>\n",
       "      <td>23.894</td>\n",
       "      <td>10.950</td>\n",
       "    </tr>\n",
       "    <tr>\n",
       "      <th>21</th>\n",
       "      <td>14.233</td>\n",
       "      <td>17.960</td>\n",
       "      <td>3.727</td>\n",
       "    </tr>\n",
       "    <tr>\n",
       "      <th>22</th>\n",
       "      <td>19.710</td>\n",
       "      <td>22.058</td>\n",
       "      <td>2.348</td>\n",
       "    </tr>\n",
       "    <tr>\n",
       "      <th>23</th>\n",
       "      <td>16.004</td>\n",
       "      <td>21.157</td>\n",
       "      <td>5.153</td>\n",
       "    </tr>\n",
       "  </tbody>\n",
       "</table>\n",
       "</div>"
      ],
      "text/plain": [
       "    Congruent  Incongruent  Difference\n",
       "0      12.079       19.278       7.199\n",
       "1      16.791       18.741       1.950\n",
       "2       9.564       21.214      11.650\n",
       "3       8.630       15.687       7.057\n",
       "4      14.669       22.803       8.134\n",
       "5      12.238       20.878       8.640\n",
       "6      14.692       24.572       9.880\n",
       "7       8.987       17.394       8.407\n",
       "8       9.401       20.762      11.361\n",
       "9      14.480       26.282      11.802\n",
       "10     22.328       24.524       2.196\n",
       "11     15.298       18.644       3.346\n",
       "12     15.073       17.510       2.437\n",
       "13     16.929       20.330       3.401\n",
       "14     18.200       35.255      17.055\n",
       "15     12.130       22.158      10.028\n",
       "16     18.495       25.139       6.644\n",
       "17     10.639       20.429       9.790\n",
       "18     11.344       17.425       6.081\n",
       "19     12.369       34.288      21.919\n",
       "20     12.944       23.894      10.950\n",
       "21     14.233       17.960       3.727\n",
       "22     19.710       22.058       2.348\n",
       "23     16.004       21.157       5.153"
      ]
     },
     "execution_count": 41,
     "metadata": {},
     "output_type": "execute_result"
    }
   ],
   "source": [
    "##### print(\"Table 1: Data on Stroop Effect Participants from Both Treatments\")\n",
    "data"
   ]
  },
  {
   "cell_type": "markdown",
   "metadata": {},
   "source": [
    "## 1. Identifying Variables and Problem Formalization\n"
   ]
  },
  {
   "cell_type": "markdown",
   "metadata": {},
   "source": [
    "**Independent Variable**: Congruent Word Performance Treatment, Incongruent Word Performance Treatment\n",
    "\n",
    "**Dependent Variable**: Difference in word performance\n",
    "\n",
    "One of the phenomena we can test is if there is an associative difference between reading color names and reading colors. As such, if we design a test to record completion times of participants for a series of words describing the colors they are assigned to, we will be testing the association of words to color. If we want to go beyond describing a relationship and studying causality, then we want to use *causal inference* to distinguish if disassociating words from color as a treatment group would provide any differences. \n",
    "\n",
    "To make the problem well-posed, we list the following definitions:\n",
    "\n",
    "+ **Stroop Effect:** is a phenomenon demonstrating the interference or inhibition of a specific task. In particular, it is the difference of reaction times between incongruent and congruent treatment cases. The difference in brain activity between these two conditions (i.e., incongruent minus congruent) could reveal brain systems involved in the attentionally mediated resolution of the conflict between the habitual response of reading words vs. the task demands of naming the color of the words$^{[3],[5]}$.  \n",
    "\n",
    "+ **Law of associative inhibition:** \"If $a$ is already connected with $b$, then it is difficult to connect it with $k$, [because] $b$ gets in the way.\"$^{[5]}$ The inhibition is the prevailing idea behind the interference phenomenon in the Stroop effect, where the automatic association of reading color names (\"$a$\") and naming colors (\"$b$\") is interfered by the incongruent case.\n",
    "\n",
    "+ **Congruent words condition:** The treatment state in which participants record reading duration for words where the noun and presentation color are congruent, or match$^{[5]}$. For a participant/observation $i$, their congruent word performance is $\\theta_{i}$, and the set of them for all observations $\\Theta$.\n",
    "\n",
    "+ **Incongruent words condition:** The treatment state in which participants record reading duration for words where the noun and presentation color are incongruent$^{[5]}$. For a participant/observation $i$, their congruent word performance is $\\phi_{i}$, and the set of them for all observations $\\Phi$.\n",
    "\n",
    "+ **Word Performance Difference:** Difference between congruent and inconguent words conditon performances, which operationalizes the effect of interference of word reading upon color naming: \n",
    "\n",
    "$$d_{i} \\doteq \\phi_i - \\theta_i$$\n",
    "\n",
    "+ **Sample Mean Difference:** The mean of word performance difference scores across all observations:\n",
    "\n",
    "$$\\bar{d} \\doteq \\frac{1}{n}\\sum_{i = 1}^{n} d_{i}$$\n",
    "\n",
    "+ **Sample Standard Deviation Difference:** Standard deviation of difference scores across all observations:\n",
    "\n",
    "$$s_{{d}} \\doteq \\sqrt{\\frac{1}{n - 1}\\sum_{i = 1}^{n} \\left ( d_{i} - \\bar{d}_{i} \\right )^{2}}$$\n",
    "\n",
    "Our data is collected via the [online Stroop test](https://faculty.washington.edu/chudler/java/ready.html)$^{[1]}$, which collects congruent and incongruent word task completion times for *each* participant. As such, for any given observation $i$, where $i = 1, ..., n$, the net effect of interference is observed as $d_{i}$, as described above."
   ]
  },
  {
   "cell_type": "markdown",
   "metadata": {},
   "source": [
    "## 2a. Hypothesis Formulation"
   ]
  },
  {
   "cell_type": "markdown",
   "metadata": {},
   "source": [
    "We formulate the hypothesis as follows:\n",
    "\n",
    "$$H_{0} \\: : \\: \\mu_d = 0$$\n",
    "\n",
    "$$H_{1} \\: : \\: \\mu_d > 0$$\n",
    "\n",
    "Our goal is to understand if associative inhibition (or interference)$^{[5]}$ between reading words and naming colors exists. In other words, we want to know if there is significant evidence for a Stroop effect. To do this, we want to understand if there exists significant evidence for an interference, which is modeled by the difference in response times between mismatched nouns and colors (incongruent word task) and matching nouns and colors (congruent word task). \n",
    "\n",
    "As such, the above mathematical formulation of hypotheses is a sufficient representation. For one, the null hypothesis assumes that there is no difference between population congruent word performance and population incongruent word performance, which cannot be specifically proven for now but can be retained or rejected depending on test results. The alternate hypothesis is a one-tailed hypothesis due to the assumption that incongruent word task times will almost always be greater than their congruent counterparts.\n",
    "\n"
   ]
  },
  {
   "cell_type": "markdown",
   "metadata": {},
   "source": [
    "## 2b. Statistical Test Formulation"
   ]
  },
  {
   "cell_type": "markdown",
   "metadata": {},
   "source": [
    "Since both $\\theta_{i}$ and $\\phi_{i}$ are dependent on one another for each observation, we choose a **paired sample t-test**. There are three main reasons for why we choose this test. Let us discuss the simpler reason first:\n",
    "\n",
    "**Reason 1:** We have $n < 30$. As such, using a z-test approach will not work, and a t-test approach is ideal.\n",
    "\n",
    "**Reason 2:** The assumptions for a dependent t-test are met. The assumptions are as follows: $^{[6],[7]}$\n",
    "\n",
    "1. *The dependent variable must be continuous (interval/ratio).*\n",
    "\n",
    "    For $D \\doteq  \\left \\{ d_{i} \\: : d_{i} \\: \\in \\mathbb{R} \\right \\}$, the set of word performance differences for all observations, is continuous since any value is in the real space, i.e., $D \\subset \\mathbb{R}$.\n",
    "\n",
    "2. *The observations are independent of one another.*\n",
    "\n",
    "    Since the data is collected from independently participating participants, then for any participant $i, j$, where $i \\neq j$, $\\theta_i$ is independent from $\\theta_j$ and $\\phi_i$ is independent from $\\phi_j$.\n",
    "\n",
    "3. *The dependent variable should be approximately normally distributed.*\n",
    "\n",
    "    This is true due to successful goodness of fit tests, which we will show later when doing goodness of fit tests in the Visualizations section. If we assume normality or any distribution, we will need a parametric test, for which a paired 2-sample t-test would suffice. However, if there is no distribution, a non-parametric test is needed, for which the Wilcoxon Signed Rank Test will suffice.\n",
    "\n",
    "4. *The dependent variable should not contain any outliers.*\n",
    "\n",
    "    We will check this in our visualization later.\n",
    "    \n",
    "**Reason 3:** The paired design is an effective experimental technique to inspect the difference in associative interference between a congruent and incongruent batch. This is because $\\theta_i$ and $\\phi_i$ are dependent on $i$, which exhibits a within-subjects design. A within-subjects design is an experimental design where the same group participates in two treatments$^{[8]}$. Since a dependent t-test is a type of within-subjects design, the statistical test befits the design type."
   ]
  },
  {
   "cell_type": "markdown",
   "metadata": {},
   "source": [
    "## 3. Descriptive Statistics"
   ]
  },
  {
   "cell_type": "code",
   "execution_count": 21,
   "metadata": {},
   "outputs": [
    {
     "name": "stdout",
     "output_type": "stream",
     "text": [
      "Table 2: Descriptive Statistics\n"
     ]
    },
    {
     "data": {
      "text/html": [
       "<div>\n",
       "<style>\n",
       "    .dataframe thead tr:only-child th {\n",
       "        text-align: right;\n",
       "    }\n",
       "\n",
       "    .dataframe thead th {\n",
       "        text-align: left;\n",
       "    }\n",
       "\n",
       "    .dataframe tbody tr th {\n",
       "        vertical-align: top;\n",
       "    }\n",
       "</style>\n",
       "<table border=\"1\" class=\"dataframe\">\n",
       "  <thead>\n",
       "    <tr style=\"text-align: right;\">\n",
       "      <th></th>\n",
       "      <th>Congruent</th>\n",
       "      <th>Incongruent</th>\n",
       "      <th>Difference</th>\n",
       "    </tr>\n",
       "  </thead>\n",
       "  <tbody>\n",
       "    <tr>\n",
       "      <th>Means</th>\n",
       "      <td>14.051125</td>\n",
       "      <td>22.015917</td>\n",
       "      <td>7.964792</td>\n",
       "    </tr>\n",
       "    <tr>\n",
       "      <th>Std Dev</th>\n",
       "      <td>3.559358</td>\n",
       "      <td>4.797057</td>\n",
       "      <td>4.864827</td>\n",
       "    </tr>\n",
       "    <tr>\n",
       "      <th>Variance</th>\n",
       "      <td>12.669029</td>\n",
       "      <td>23.011757</td>\n",
       "      <td>23.666541</td>\n",
       "    </tr>\n",
       "    <tr>\n",
       "      <th>First Quartiles</th>\n",
       "      <td>11.895250</td>\n",
       "      <td>18.716750</td>\n",
       "      <td>3.645500</td>\n",
       "    </tr>\n",
       "    <tr>\n",
       "      <th>Medians</th>\n",
       "      <td>14.356500</td>\n",
       "      <td>21.017500</td>\n",
       "      <td>7.666500</td>\n",
       "    </tr>\n",
       "    <tr>\n",
       "      <th>Third Quartiles</th>\n",
       "      <td>16.200750</td>\n",
       "      <td>24.051500</td>\n",
       "      <td>10.258500</td>\n",
       "    </tr>\n",
       "    <tr>\n",
       "      <th>Modes</th>\n",
       "      <td>8.630000</td>\n",
       "      <td>15.687000</td>\n",
       "      <td>1.950000</td>\n",
       "    </tr>\n",
       "    <tr>\n",
       "      <th>n</th>\n",
       "      <td>24.000000</td>\n",
       "      <td>24.000000</td>\n",
       "      <td>24.000000</td>\n",
       "    </tr>\n",
       "  </tbody>\n",
       "</table>\n",
       "</div>"
      ],
      "text/plain": [
       "                 Congruent  Incongruent  Difference\n",
       "Means            14.051125    22.015917    7.964792\n",
       "Std Dev           3.559358     4.797057    4.864827\n",
       "Variance         12.669029    23.011757   23.666541\n",
       "First Quartiles  11.895250    18.716750    3.645500\n",
       "Medians          14.356500    21.017500    7.666500\n",
       "Third Quartiles  16.200750    24.051500   10.258500\n",
       "Modes             8.630000    15.687000    1.950000\n",
       "n                24.000000    24.000000   24.000000"
      ]
     },
     "execution_count": 21,
     "metadata": {},
     "output_type": "execute_result"
    }
   ],
   "source": [
    "# Transform original data to include a column of pairwise differences per observation\n",
    "data['Difference'] = data['Incongruent'] - data['Congruent']\n",
    "\n",
    "# user-defined function to calculate mode\n",
    "def mode(data, axis=0):\n",
    "    \"\"\"Returns the mode of a pandas data frame.\"\"\"\n",
    "    modes = stats.mode(data)\n",
    "    tmp = modes.mode[0]\n",
    "    output = pd.Series(tmp)\n",
    "    output.index = data.columns\n",
    "    return output\n",
    "\n",
    "# Create dataframe of statistics using Pandas and stats libraries\n",
    "means = data.mean(axis=0)\n",
    "stdevs = data.std(axis=0)\n",
    "variances = stdevs**2\n",
    "medians = data.median(axis = 0)\n",
    "q1 = data.quantile(q= 0.25, axis=0)\n",
    "q3 = data.quantile(q= 0.75, axis=0)\n",
    "modes = mode(data)\n",
    "lens = data.count(axis=0)\n",
    "desc = pd.concat([means.rename('Means'),\n",
    "                  stdevs.rename('Std Dev'), \n",
    "                  variances.rename('Variance'),\n",
    "                  q1.rename('First Quartiles'),\n",
    "                  medians.rename('Medians'),\n",
    "                  q3.rename('Third Quartiles'),\n",
    "                  modes.rename('Modes'),\n",
    "                  lens.rename('n')], axis=1).T\n",
    "print(\"Table 2: Descriptive Statistics\")\n",
    "desc"
   ]
  },
  {
   "cell_type": "markdown",
   "metadata": {},
   "source": [
    "We chose the mean as a measure of centrality and the standard deviation to be the measure of variability. The above table summarizes descriptive statistics for each treatment set, $\\Theta$ and $\\Phi$, and the statistics of the difference of samples, $D = \\Phi - \\Theta$. We then get the following statistics (with rounding):\n",
    "\n",
    "$$\\bar{d} = 7.964792$$\n",
    "\n",
    "$$s_{d} = 4.864827$$"
   ]
  },
  {
   "cell_type": "markdown",
   "metadata": {},
   "source": [
    "## 4. Visualizations"
   ]
  },
  {
   "cell_type": "code",
   "execution_count": 82,
   "metadata": {},
   "outputs": [
    {
     "data": {
      "text/html": [
       "<div>\n",
       "<style>\n",
       "    .dataframe thead tr:only-child th {\n",
       "        text-align: right;\n",
       "    }\n",
       "\n",
       "    .dataframe thead th {\n",
       "        text-align: left;\n",
       "    }\n",
       "\n",
       "    .dataframe tbody tr th {\n",
       "        vertical-align: top;\n",
       "    }\n",
       "</style>\n",
       "<table border=\"1\" class=\"dataframe\">\n",
       "  <thead>\n",
       "    <tr style=\"text-align: right;\">\n",
       "      <th></th>\n",
       "      <th>Observations</th>\n",
       "      <th>Type</th>\n",
       "      <th>Completion_Times</th>\n",
       "    </tr>\n",
       "  </thead>\n",
       "  <tbody>\n",
       "    <tr>\n",
       "      <th>0</th>\n",
       "      <td>0</td>\n",
       "      <td>Congruent</td>\n",
       "      <td>12.079</td>\n",
       "    </tr>\n",
       "    <tr>\n",
       "      <th>1</th>\n",
       "      <td>1</td>\n",
       "      <td>Congruent</td>\n",
       "      <td>16.791</td>\n",
       "    </tr>\n",
       "    <tr>\n",
       "      <th>2</th>\n",
       "      <td>2</td>\n",
       "      <td>Congruent</td>\n",
       "      <td>9.564</td>\n",
       "    </tr>\n",
       "    <tr>\n",
       "      <th>3</th>\n",
       "      <td>3</td>\n",
       "      <td>Congruent</td>\n",
       "      <td>8.630</td>\n",
       "    </tr>\n",
       "    <tr>\n",
       "      <th>4</th>\n",
       "      <td>4</td>\n",
       "      <td>Congruent</td>\n",
       "      <td>14.669</td>\n",
       "    </tr>\n",
       "  </tbody>\n",
       "</table>\n",
       "</div>"
      ],
      "text/plain": [
       "   Observations       Type  Completion_Times\n",
       "0             0  Congruent            12.079\n",
       "1             1  Congruent            16.791\n",
       "2             2  Congruent             9.564\n",
       "3             3  Congruent             8.630\n",
       "4             4  Congruent            14.669"
      ]
     },
     "execution_count": 82,
     "metadata": {},
     "output_type": "execute_result"
    }
   ],
   "source": [
    "def pivot(data):\n",
    "    \"\"\"Pivots original data frame with indices.\"\"\"\n",
    "    data = data.reset_index(level=0)\n",
    "    output = pd.melt(data, id_vars= 'index', \n",
    "                var_name= 'Type', \n",
    "                value_name= 'Completion_Times')\n",
    "    output.columns = ['Observations', 'Type', 'Completion_Times']\n",
    "    return output\n",
    "\n",
    "data2 = pivot(data)\n",
    "data2.head()\n"
   ]
  },
  {
   "cell_type": "markdown",
   "metadata": {},
   "source": [
    "### Figure 1: Analysis of Spread"
   ]
  },
  {
   "cell_type": "code",
   "execution_count": 83,
   "metadata": {},
   "outputs": [
    {
     "data": {
      "text/plain": [
       "<matplotlib.text.Text at 0x11e14a950>"
      ]
     },
     "execution_count": 83,
     "metadata": {},
     "output_type": "execute_result"
    },
    {
     "data": {
      "image/png": "[encoded data removed]",
      "text/plain": [
       "<matplotlib.figure.Figure at 0x11df263d0>"
      ]
     },
     "metadata": {},
     "output_type": "display_data"
    }
   ],
   "source": [
    "# Visualization Analysis of Spread\n",
    "sns.boxplot(x='Type', \n",
    "            y= 'Completion_Times', \n",
    "            hue= 'Type',\n",
    "            data=data2, \n",
    "            palette=\"Set3\").set_title('Figure 1: Boxplot of Completion Times')"
   ]
  },
  {
   "cell_type": "markdown",
   "metadata": {},
   "source": [
    "The boxplots for Figure 1 expose the visual representation of the summary statistics from part 3. on the purple box-and-whisker plot, we observe that there is a large upper whisker (top quartile) with a large spread, which translates to a right-skewed probability density function. This is verified in Figure 2, which displays a histogram of the differences set $D$, with a tendency for a larger spread above the mean. It is also verified by observing Table 2, which verifies that the mean of differences $\\bar{d} \\approx 7.97$ is larger than its median, around $7.67$, which is indicative of a right-skewed distribution.\n",
    "\n",
    "Figure 1 also exposes the existence of outliers for the incongruent treatment as shown from the box-and-whisker plot of the incongruent set $\\Phi$ (shown in yellow), which may have influenced the existence of the few outliers in the difference box-and-whisker plot (shown in purple). This will influence our interpretations and the goodness of fit of the data to an approximately normal distribution, which is a significant assumption for performing the parametric paired sample t-test. "
   ]
  },
  {
   "cell_type": "markdown",
   "metadata": {},
   "source": [
    "### Figures 2 and 3: Histograms and Normality Approximations"
   ]
  },
  {
   "cell_type": "code",
   "execution_count": 15,
   "metadata": {},
   "outputs": [
    {
     "data": {
      "text/plain": [
       "<matplotlib.text.Text at 0x11b689510>"
      ]
     },
     "execution_count": 15,
     "metadata": {},
     "output_type": "execute_result"
    },
    {
     "data": {
      "image/png": "[encoded data removed]",
      "text/plain": [
       "<matplotlib.figure.Figure at 0x11b66a490>"
      ]
     },
     "metadata": {},
     "output_type": "display_data"
    }
   ],
   "source": [
    "sns.distplot(data['Difference'], \n",
    "             axlabel='Completion Times (seconds)').set_title('Figure 2: Histogram of Differences')"
   ]
  },
  {
   "cell_type": "code",
   "execution_count": 16,
   "metadata": {},
   "outputs": [
    {
     "data": {
      "text/plain": [
       "<matplotlib.legend.Legend at 0x11dcac690>"
      ]
     },
     "execution_count": 16,
     "metadata": {},
     "output_type": "execute_result"
    },
    {
     "data": {
      "image/png": "[encoded data removed]",
      "text/plain": [
       "<matplotlib.figure.Figure at 0x11dc9eed0>"
      ]
     },
     "metadata": {},
     "output_type": "display_data"
    }
   ],
   "source": [
    "for i in ['Congruent','Incongruent', 'Difference']:\n",
    "    sns.distplot(data[i], label = i, axlabel='Completion Times (seconds)').set_title(\n",
    "        'Figure 3: Histogram of Treatment Types')\n",
    "plt.legend()"
   ]
  },
  {
   "cell_type": "markdown",
   "metadata": {},
   "source": [
    "Figure 3 displays all the histograms of congruent and incongruent treatments with their difference, which shows that the difference is the leftmost shifted plot which may indicate that the average differences between the two treatments (\"$\\Phi - \\Theta$\" so to speak) are not too drastically different to result in statistically significant results. "
   ]
  },
  {
   "cell_type": "markdown",
   "metadata": {},
   "source": [
    "### Goodness of Fit Test: Kurtosis Test\n",
    "\n",
    "Figures 1 and 2 display that the data may not approximate a normal distribution very well due to an evident skew to the right, yet since we have a small sample size and at least two outliers, this is unclear. We will perform a more quantitative test called the kurtosis test, a hypothesis test from the SciPy package whose null asserts that the data is of a normal distribution$^{[9]}$.\n",
    "\n",
    "If we compare with an alpha level $\\alpha_{kurtosis} = 0.05$, and observe the test below:"
   ]
  },
  {
   "cell_type": "code",
   "execution_count": 17,
   "metadata": {},
   "outputs": [
    {
     "data": {
      "text/plain": [
       "KurtosistestResult(statistic=1.6441688335149749, pvalue=0.10014133279077567)"
      ]
     },
     "execution_count": 17,
     "metadata": {},
     "output_type": "execute_result"
    }
   ],
   "source": [
    "stats.kurtosistest(data['Difference'])"
   ]
  },
  {
   "cell_type": "markdown",
   "metadata": {},
   "source": [
    "Then with a $p_{kurtosis} \\approx 0.1001 > \\alpha_{kurtosis}$, we retain and do not reject the null hypothesis which is in itself inconclusive. \n"
   ]
  },
  {
   "cell_type": "markdown",
   "metadata": {},
   "source": [
    "### Figure 4: Goodness of Fit Test: Probability Plot"
   ]
  },
  {
   "cell_type": "code",
   "execution_count": 27,
   "metadata": {},
   "outputs": [
    {
     "name": "stdout",
     "output_type": "stream",
     "text": [
      "Figure 4: Probability Plot\n"
     ]
    },
    {
     "data": {
      "text/plain": [
       "((array([-1.90380091, -1.48287381, -1.22601535, -1.03156092, -0.8698858 ,\n",
       "         -0.7282709 , -0.59996024, -0.48085763, -0.36822879, -0.26009875,\n",
       "         -0.154935  , -0.05146182,  0.05146182,  0.154935  ,  0.26009875,\n",
       "          0.36822879,  0.48085763,  0.59996024,  0.7282709 ,  0.8698858 ,\n",
       "          1.03156092,  1.22601535,  1.48287381,  1.90380091]),\n",
       "  array([  1.95 ,   2.196,   2.348,   2.437,   3.346,   3.401,   3.727,\n",
       "           5.153,   6.081,   6.644,   7.057,   7.199,   8.134,   8.407,\n",
       "           8.64 ,   9.79 ,   9.88 ,  10.028,  10.95 ,  11.361,  11.65 ,\n",
       "          11.802,  17.055,  21.919])),\n",
       " (4.848714513731152, 7.9647916666666658, 0.95231198471853418))"
      ]
     },
     "execution_count": 27,
     "metadata": {},
     "output_type": "execute_result"
    },
    {
     "data": {
      "image/png": "[encoded data removed]",
      "text/plain": [
       "<matplotlib.figure.Figure at 0x11e4a4990>"
      ]
     },
     "metadata": {},
     "output_type": "display_data"
    }
   ],
   "source": [
    "print(\"Figure 4: Probability Plot\")\n",
    "stats.probplot(x = data['Difference'], dist='norm', plot = plt)"
   ]
  },
  {
   "cell_type": "markdown",
   "metadata": {},
   "source": [
    "We then refer to Figure 4, a probability plot for further inspection of the goodness of fit to a normal distribution. A probability plot is a scatter plot of the theoretical quantiles of the expected distribution plotted against the ordered values of the observed distribution$^{[7]}$. \n",
    "\n",
    "Here, our observed distribution, plotted in the Y-axis, is the difference set $D$ and the expected distribution, whose quantiles are plotted in the X-axis, is the normal distribution as specified by the `dist = norm` scipy function argument. An observed set of data that closely follows a normal distribution would have a linear relationship in the plot. Sans outliers, we see an approximately linear relationship. The tails of the plot may be a bit different: the data points on the lower-left quadrant indicate that the observed values on the left are larger than that of the expected normal distribution, which would lessen the degree of fitting to a normal distribution. There are also a few points on the upper-right quadrant (except the outliers) that are beneath the red line, indicating that those observed values are lower in value than a theoretical normal distribution. \n",
    "\n",
    "### Concluding Interpretations from Visualizations\n",
    "\n",
    "For the most part, the data follows a linear relationship between observed data and normal distribution quantiles, which favors the argument towards a data that well approximates a normal distribution. We can attribute its skewness due to outliers as well as a small sample. As such, with a fail-to-reject kurtosis test, skewed histogram and box-and-whisker, and approximately linear probability plot, the data can be assumed to be approximately normally distributed for its sample size. \n",
    "\n",
    "We do have outliers, yet they are not significantly far from the rest of the data, so we will assert that Assumptions 3 and 4 are met in the Statistical Test Formulation section (2b) and we will go ahead and assume that the paired sample t-test is a sufficient test to use for this data.\n",
    "\n"
   ]
  },
  {
   "cell_type": "markdown",
   "metadata": {},
   "source": [
    "## 5. Statistical Test Implementation"
   ]
  },
  {
   "cell_type": "markdown",
   "metadata": {},
   "source": [
    "With a statistical test in hand, we can then perform the necessary steps towards finding a test statistic, computing a p-value, and making a decision with stated null and alternate hypotheses. We restate the hypotheses again and other necessary pieces of the paired 2-sample t-test:\n",
    "\n",
    "### Null and Alternate Hypotheses:\n",
    "\n",
    "$$H_{0} \\: : \\: \\mu_d = 0$$\n",
    "\n",
    "$$H_{1} \\: : \\: \\mu_d > 0$$\n",
    "\n",
    "### Basic Statistics\n",
    "\n",
    "$\\bar{d} = 7.964792$\n",
    "\n",
    "$s_{d} = 4.864827$\n",
    "\n",
    "$n = 24$\n",
    "\n",
    "$df = 23$\n",
    "\n",
    "$\\alpha = 0.0005$\n",
    "\n",
    "### Estimated Standard Error of the Mean\n",
    "\n",
    "This is defined as follows:\n",
    "\n",
    "$$s_{\\bar{d}} = \\frac{s_d}{\\sqrt{n}} = \\frac{4.864827}{\\sqrt{24}} = 0.99302865307622179$$\n",
    "\n",
    "### T-Statistic\n",
    "\n",
    "We compute the t-statistic for a paired 2-sample t-test with the following formulation$^{[7]}$:\n",
    "\n",
    "$$t = \\frac{\\bar{d} - \\mu_d}{s_{\\bar{d}}}$$\n",
    "\n",
    "As such:\n",
    "\n",
    "$$t = \\frac{\\bar{d} - \\mu_d}{s_d} = \\frac{7.964792 - 0}{0.99302865307622179} = 8.0207$$\n",
    "\n",
    "With degrees of freedom $df = n - 1 = 23$$^{[6]}$. Since this is the case, we find the critical value of a T-distribution with a chosen $\\alpha = 0.0005$, we have$^{[10]}$:\n",
    "\n",
    "$$T_{\\alpha = 0.0005} = 3.768$$\n",
    "\n",
    "### P-value\n",
    "\n",
    "We thus gain a p-value $p$ for the random variable of differences set $D$ distribution, $X$, with the following definition$^{[6]}$ and implementation:\n",
    "\n",
    "$$p = \\mathbb{P}\\left\\{X > t = 8.0207\\right \\} = 4.103\\text{x}10^{-08}$$\n",
    "\n",
    "Note that $p$ and $t$ are the same results as that done by the SciPy package function"
   ]
  },
  {
   "cell_type": "code",
   "execution_count": 44,
   "metadata": {},
   "outputs": [
    {
     "data": {
      "text/plain": [
       "Ttest_relResult(statistic=8.020706944109957, pvalue=4.1030005857111781e-08)"
      ]
     },
     "execution_count": 44,
     "metadata": {},
     "output_type": "execute_result"
    }
   ],
   "source": [
    "stats.ttest_rel(a= data['Incongruent'], \n",
    "               b= data['Congruent'])"
   ]
  },
  {
   "cell_type": "markdown",
   "metadata": {},
   "source": [
    "### Conclusion\n",
    "\n",
    "We can then see that for a right-tailed test, we observe that at an alpha level of $\\alpha = 0.0005$, we arrive at a test statistic that is within the critical region of a one-tailed test, which means that we reject the null hypothesis and assert that there is significant evidence that there is a difference in means of completion times between reading color words that match their colors and reading color words that do not match their colors, which shows significant evidence for a treatment effect and for associative inhibition.\n"
   ]
  },
  {
   "cell_type": "markdown",
   "metadata": {},
   "source": [
    "## Question 6: Extending the Investigation"
   ]
  },
  {
   "cell_type": "markdown",
   "metadata": {},
   "source": [
    "While a one-tailed paired-sample t-test proved to be statistically significant, this was based on the assumptions of normality and ignoring two outliers, namely, $d = 17.055, 21.919$. We can extend this investigation by probing if the hypothesis decision will change based off of two different factors:\n",
    "\n",
    "1. Ignoring outliers\n",
    "\n",
    "2. Using a non-parametric test"
   ]
  },
  {
   "cell_type": "markdown",
   "metadata": {},
   "source": [
    "### 6a. Ignoring Outliers"
   ]
  },
  {
   "cell_type": "markdown",
   "metadata": {},
   "source": [
    "We will eliminate $d = 17.055, 21.919$ and see if there is a difference in our results."
   ]
  },
  {
   "cell_type": "code",
   "execution_count": 87,
   "metadata": {},
   "outputs": [
    {
     "data": {
      "text/html": [
       "<div>\n",
       "<style>\n",
       "    .dataframe thead tr:only-child th {\n",
       "        text-align: right;\n",
       "    }\n",
       "\n",
       "    .dataframe thead th {\n",
       "        text-align: left;\n",
       "    }\n",
       "\n",
       "    .dataframe tbody tr th {\n",
       "        vertical-align: top;\n",
       "    }\n",
       "</style>\n",
       "<table border=\"1\" class=\"dataframe\">\n",
       "  <thead>\n",
       "    <tr style=\"text-align: right;\">\n",
       "      <th></th>\n",
       "      <th>Congruent</th>\n",
       "      <th>Incongruent</th>\n",
       "      <th>Difference</th>\n",
       "    </tr>\n",
       "  </thead>\n",
       "  <tbody>\n",
       "    <tr>\n",
       "      <th>19</th>\n",
       "      <td>12.369</td>\n",
       "      <td>34.288</td>\n",
       "      <td>21.919</td>\n",
       "    </tr>\n",
       "    <tr>\n",
       "      <th>14</th>\n",
       "      <td>18.200</td>\n",
       "      <td>35.255</td>\n",
       "      <td>17.055</td>\n",
       "    </tr>\n",
       "    <tr>\n",
       "      <th>9</th>\n",
       "      <td>14.480</td>\n",
       "      <td>26.282</td>\n",
       "      <td>11.802</td>\n",
       "    </tr>\n",
       "    <tr>\n",
       "      <th>2</th>\n",
       "      <td>9.564</td>\n",
       "      <td>21.214</td>\n",
       "      <td>11.650</td>\n",
       "    </tr>\n",
       "    <tr>\n",
       "      <th>8</th>\n",
       "      <td>9.401</td>\n",
       "      <td>20.762</td>\n",
       "      <td>11.361</td>\n",
       "    </tr>\n",
       "  </tbody>\n",
       "</table>\n",
       "</div>"
      ],
      "text/plain": [
       "    Congruent  Incongruent  Difference\n",
       "19     12.369       34.288      21.919\n",
       "14     18.200       35.255      17.055\n",
       "9      14.480       26.282      11.802\n",
       "2       9.564       21.214      11.650\n",
       "8       9.401       20.762      11.361"
      ]
     },
     "execution_count": 87,
     "metadata": {},
     "output_type": "execute_result"
    }
   ],
   "source": [
    "new_data = data.sort_values(by= ['Difference'], ascending=True)[::-1]\n",
    "\n",
    "new_data.head()"
   ]
  },
  {
   "cell_type": "code",
   "execution_count": 88,
   "metadata": {},
   "outputs": [
    {
     "data": {
      "text/html": [
       "<div>\n",
       "<style>\n",
       "    .dataframe thead tr:only-child th {\n",
       "        text-align: right;\n",
       "    }\n",
       "\n",
       "    .dataframe thead th {\n",
       "        text-align: left;\n",
       "    }\n",
       "\n",
       "    .dataframe tbody tr th {\n",
       "        vertical-align: top;\n",
       "    }\n",
       "</style>\n",
       "<table border=\"1\" class=\"dataframe\">\n",
       "  <thead>\n",
       "    <tr style=\"text-align: right;\">\n",
       "      <th></th>\n",
       "      <th>Congruent</th>\n",
       "      <th>Incongruent</th>\n",
       "      <th>Difference</th>\n",
       "    </tr>\n",
       "  </thead>\n",
       "  <tbody>\n",
       "    <tr>\n",
       "      <th>9</th>\n",
       "      <td>14.480</td>\n",
       "      <td>26.282</td>\n",
       "      <td>11.802</td>\n",
       "    </tr>\n",
       "    <tr>\n",
       "      <th>2</th>\n",
       "      <td>9.564</td>\n",
       "      <td>21.214</td>\n",
       "      <td>11.650</td>\n",
       "    </tr>\n",
       "    <tr>\n",
       "      <th>8</th>\n",
       "      <td>9.401</td>\n",
       "      <td>20.762</td>\n",
       "      <td>11.361</td>\n",
       "    </tr>\n",
       "    <tr>\n",
       "      <th>20</th>\n",
       "      <td>12.944</td>\n",
       "      <td>23.894</td>\n",
       "      <td>10.950</td>\n",
       "    </tr>\n",
       "    <tr>\n",
       "      <th>15</th>\n",
       "      <td>12.130</td>\n",
       "      <td>22.158</td>\n",
       "      <td>10.028</td>\n",
       "    </tr>\n",
       "  </tbody>\n",
       "</table>\n",
       "</div>"
      ],
      "text/plain": [
       "    Congruent  Incongruent  Difference\n",
       "9      14.480       26.282      11.802\n",
       "2       9.564       21.214      11.650\n",
       "8       9.401       20.762      11.361\n",
       "20     12.944       23.894      10.950\n",
       "15     12.130       22.158      10.028"
      ]
     },
     "execution_count": 88,
     "metadata": {},
     "output_type": "execute_result"
    }
   ],
   "source": [
    "new_data = new_data[2:] # Eliminate outliers\n",
    "new_data.head()"
   ]
  },
  {
   "cell_type": "markdown",
   "metadata": {},
   "source": [
    "#### Ignoring Outliers: Hypothesis Test Results"
   ]
  },
  {
   "cell_type": "code",
   "execution_count": 86,
   "metadata": {},
   "outputs": [
    {
     "data": {
      "text/plain": [
       "Ttest_relResult(statistic=8.6670463737765679, pvalue=1.2063970794825227e-07)"
      ]
     },
     "execution_count": 86,
     "metadata": {},
     "output_type": "execute_result"
    }
   ],
   "source": [
    "stats.ttest_rel(a= new_data['Incongruent'], \n",
    "               b= new_data['Congruent'])"
   ]
  },
  {
   "cell_type": "markdown",
   "metadata": {},
   "source": [
    "The parametric paired 2-sample t-test still yields a test statistic and p-value $p$ that are significant within the critical region determined by $\\alpha = 0.0005$. As such, we still conclude to reject the null hypothesis and assert that there is a significant difference between treatments of congruent and incongruent task completion times, yielding for a strong argument for associative inhibition in effect. However, this all relies on the assumption that the clipped data without outliers, which we will denote as $\\hat{D}$, follows a normal distribution. We will again test the goodness of fit with visualizations and the kurtosis test:"
   ]
  },
  {
   "cell_type": "markdown",
   "metadata": {},
   "source": [
    "#### Ignoring Outliers: Goodness of Fit Visualizations"
   ]
  },
  {
   "cell_type": "code",
   "execution_count": 92,
   "metadata": {},
   "outputs": [
    {
     "data": {
      "text/plain": [
       "<matplotlib.text.Text at 0x11f3717d0>"
      ]
     },
     "execution_count": 92,
     "metadata": {},
     "output_type": "execute_result"
    },
    {
     "data": {
      "image/png": "[encoded data removed]",
      "text/plain": [
       "<matplotlib.figure.Figure at 0x11f17ed10>"
      ]
     },
     "metadata": {},
     "output_type": "display_data"
    }
   ],
   "source": [
    "# Visualization Analysis of Spread without Outliers\n",
    "new_data_boxplot = pivot(new_data)\n",
    "sns.boxplot(x='Type', \n",
    "            y= 'Completion_Times', \n",
    "            hue= 'Type',\n",
    "            data=new_data_boxplot, \n",
    "            palette=\"Set3\").set_title('Figure 5: Boxplot of Completion Times Without Outliers')"
   ]
  },
  {
   "cell_type": "code",
   "execution_count": 90,
   "metadata": {},
   "outputs": [
    {
     "data": {
      "text/plain": [
       "<matplotlib.text.Text at 0x11f19f4d0>"
      ]
     },
     "execution_count": 90,
     "metadata": {},
     "output_type": "execute_result"
    },
    {
     "data": {
      "image/png": "[encoded data removed]",
      "text/plain": [
       "<matplotlib.figure.Figure at 0x11f2437d0>"
      ]
     },
     "metadata": {},
     "output_type": "display_data"
    }
   ],
   "source": [
    "sns.distplot(new_data['Difference'], \n",
    "             axlabel='Completion Times (seconds)',\n",
    "            bins=5).set_title('Figure 6: Histogram of Differences Without Outliers')"
   ]
  },
  {
   "cell_type": "code",
   "execution_count": 70,
   "metadata": {},
   "outputs": [
    {
     "data": {
      "text/plain": [
       "KurtosistestResult(statistic=-2.3350411265825342, pvalue=0.019541272381413222)"
      ]
     },
     "execution_count": 70,
     "metadata": {},
     "output_type": "execute_result"
    }
   ],
   "source": [
    "stats.kurtosistest(new_data['Difference'])"
   ]
  },
  {
   "cell_type": "code",
   "execution_count": 89,
   "metadata": {},
   "outputs": [
    {
     "name": "stdout",
     "output_type": "stream",
     "text": [
      "Figure 7: Probability Plot Without Outliers\n"
     ]
    },
    {
     "data": {
      "text/plain": [
       "((array([-1.86607372, -1.43791453, -1.17527742, -0.97550628, -0.80861848,\n",
       "         -0.66170536, -0.52787584, -0.40291473, -0.28396605, -0.16891711,\n",
       "         -0.05606845,  0.05606845,  0.16891711,  0.28396605,  0.40291473,\n",
       "          0.52787584,  0.66170536,  0.80861848,  0.97550628,  1.17527742,\n",
       "          1.43791453,  1.86607372]),\n",
       "  array([  1.95 ,   2.196,   2.348,   2.437,   3.346,   3.401,   3.727,\n",
       "           5.153,   6.081,   6.644,   7.057,   7.199,   8.134,   8.407,\n",
       "           8.64 ,   9.79 ,   9.88 ,  10.028,  10.95 ,  11.361,  11.65 ,\n",
       "          11.802])),\n",
       " (3.4683905111296935, 6.9173181818181808, 0.97157809020385688))"
      ]
     },
     "execution_count": 89,
     "metadata": {},
     "output_type": "execute_result"
    },
    {
     "data": {
      "image/png": "[encoded data removed]",
      "text/plain": [
       "<matplotlib.figure.Figure at 0x11e3ab6d0>"
      ]
     },
     "metadata": {},
     "output_type": "display_data"
    }
   ],
   "source": [
    "print(\"Figure 7: Probability Plot Without Outliers\")\n",
    "stats.probplot(x = new_data['Difference'], dist='norm', plot = plt)"
   ]
  },
  {
   "cell_type": "markdown",
   "metadata": {},
   "source": [
    "The box-and-whiskers plot in Figure 5 yields little indicaiton of difference, yet more can be said with Figure 6, 7, and the kurtosis test. Here, for $\\alpha = 0.05$, we have a $p_{kurtosis} = 0.01$, which is in the critical region for said $\\alpha$, contrary to the $p = 0.1001$ for $D$, the original difference set with outliers. As such, we can tell that removing 2 outliers will shift us into the rejection region for $\\alpha = 0.05$, and showing that the data will have significant evidence for rejecting the kurtosis null hypothesis that $\\hat{D} \\sim \\mathcal{N}(\\mu_d, \\sigma^{2}_{d})$ (normally distributed) with population variance of differences $\\sigma^{2}_{d}$, so $\\hat{D}$ is not normally distributed from that test. Figure 6 also shows a histogram whose bins seem quasi-bimodal, and the probability plot in Figure 7 verifies a non-linear relationship with the expected distribution being normal. As such, all three of these goodness-of-fit tests fail to support a strong fit that $\\hat{D}$ is normally distributed, and as such fail one of the assumptions of a dependent sample t-test. We then revert to a non-parametric test to see the results."
   ]
  },
  {
   "cell_type": "markdown",
   "metadata": {},
   "source": [
    "### 6b. Non-Parametric Test: Wilcoxon Signed Rank Test"
   ]
  },
  {
   "cell_type": "markdown",
   "metadata": {},
   "source": [
    "Due to the results in 6a, we will inspect the differences between congruent and incongruent treatments $D$ with a non-parametric test. We will first investigate the assumptions to see if we can qualify to implement the statistical test on our data, specifically for a type of non-parametric test called a __Wilcoxon Signed Rank Test__$^{[11]}$:\n",
    "\n",
    "#### Assumptions:\n",
    "\n",
    "*1. For every $d_i$, $\\phi_i$ and $\\theta_i$ are dependent on one another.*\n",
    "\n",
    "This is true, since both $\\phi_{i}$ and $\\theta_{i}$, the incongruent and congruent completion times for each observation, is dependent on the observation that took those times.\n",
    "\n",
    "*2. Every participant is independent of one another.*\n",
    "\n",
    "This is true, because we assume that no two participants influenced each others scores and we randomly selected participants for this study.\n",
    "\n",
    "*3. The set $D$ has to be a continuous dependent variable.*\n",
    "\n",
    "Since $D$ is a completion time measurement and time is on a continuous space, so is $D$.\n",
    "\n",
    "*4. The measurements from $D$ are ordinal (can be ordered).*\n",
    "\n",
    "This is true. For $D \\subset \\mathbb{R}$, every element can be ordered, as we did with the `new_data` variable."
   ]
  },
  {
   "cell_type": "markdown",
   "metadata": {},
   "source": [
    "Since the assumptions are all met, we can proceed with the statistical test. We explain the algorithm and intuition behind the test as follows$^{[7]}$:\n",
    "\n",
    "#### Test Procedure\n",
    "1. Calculate the differences, $d_i$ , and the absolute values, $\\left | d_{i} \\right |$, of the differences and rank the latter into a variable $R$.\n",
    "2. Exclude pairs where $d_i = 0$. As such, the cardinality of $D$ would be reduced to $n_r$, where $n_{r} < n$.\n",
    "2. Restore the signs of the differences to the ranks, denoted $R$, obtaining signed ranks, denoted $R_s$.\n",
    "3. Calculate $W_{+}$, the sum of those ranks that have positive signs, as follows:\n",
    "\n",
    "$$W = \\sum_{i = 1}^{n_{r}} \\left (\\left [d_{i} \\right ]_{+} \\cdot R_{i} \\right )$$\n",
    "\n",
    "where $[d_{i}]_{+} \\doteq d_{i} \\in D : d_{i} > 0$.\n",
    "\n",
    "4. Calculate $W_{-}$ this way, but with the negative signed ranked differences. Choose the smaller of the two sums, $W^{*} = min(W_{+}, W_{-})$ and compare with the critical value for a pre-computed distribution of Wilcoxon critical values, based on number of tails in test, sample size, and $\\alpha$ value.\n",
    "\n",
    "#### Intuition\n",
    "From John Rice's *Mathematical Statistics and Data Analysis* text$^{[7]}$: \n",
    "\n",
    "> The idea behind the signed rank test (sometimes called the Wilcoxon signed rank\n",
    "test) is intuitively simple. If there is no difference between the two paired conditions,\n",
    "we expect about half the $d_i$ to be positive and half negative, and $W_{+}$ will not be too\n",
    "small or too large. If one condition tends to produce larger values than the other, $W_{+}$\n",
    "will tend to be more extreme. We therefore can use $W_{+}$ as a test statistic and reject\n",
    "for extreme values."
   ]
  },
  {
   "cell_type": "markdown",
   "metadata": {},
   "source": [
    "The signed rank test allows us to focus on the ordinal relationships of data points, which allows it to be resistant to outliers, one of the violations in our assumptions for a parametric paired t-test. Since it does not assume normality, we will have to draw it from a tested null distribution to test if the test statistic falls within the critical region to make a decision. For now, we begin with the test implementation, with a chosen value of alpha $\\alpha = 0.05$.\n",
    "\n",
    "#### Hypothesis Test\n",
    "\n",
    "We then construct the following claim:\n",
    "\n",
    "__$H_{0}$ : median difference is 0, i.e., for the null distribution $F$ such that it is the distribution of $d_{i}$, $F$ is symmetric about 0.__\n",
    "\n",
    "__$H_{1}$ : median difference is greater than 0, i.e., $F$ is not symmetric about 0.__\n",
    "\n",
    "This null distribution, $F$, is derived from the following idea: \n",
    "+ Assume $H_0$ is true. \n",
    "\n",
    "+ For every observation $i$, $d_{i} \\sim F$ indicates that $d_i$ are distributed by the null distributed $F$.\n",
    "\n",
    "+ Since $d_{i} = \\phi_i - \\theta_i$, the difference of the incongruent case from the congruent case, $d_i$ and $-d_i$ both come from $F$ due to the assumption of symmetry in the distribution. As such, they have equal probability. We then have $2^{n_{r}}$ assignments of rank to calculate $W_{+}$, since each $W_{+}$ has a probability of $\\frac{1}{2^{n_{r}}}$$^{[7]}$. \n",
    "\n",
    "+ One can calculate the probability null distribution this way, and is available in many computer packages such as SciPy."
   ]
  },
  {
   "cell_type": "code",
   "execution_count": 94,
   "metadata": {},
   "outputs": [
    {
     "data": {
      "text/plain": [
       "WilcoxonResult(statistic=0.0, pvalue=1.821529714896801e-05)"
      ]
     },
     "execution_count": 94,
     "metadata": {},
     "output_type": "execute_result"
    }
   ],
   "source": [
    "stats.wilcoxon(x= data['Congruent'], y= data['Incongruent'])"
   ]
  },
  {
   "cell_type": "markdown",
   "metadata": {},
   "source": [
    "#### Conclusion\n",
    "\n",
    "Using the SciPy package, we see that our statistic $W^{*} = W_{-}$, since there are no negative differences in the data, and so $W^{*} = W_{-} = 0$. This is statistically significant against our critical value for $\\alpha = 0.05$$^{[12]}$, and as such we reject the null hypothesis and the data is not symmetric about 0."
   ]
  },
  {
   "cell_type": "markdown",
   "metadata": {},
   "source": [
    "## Summary\n",
    "\n",
    "As such, with a vague assumption of normality, we attempted the parametric, paired, dependent sample t-test, achieving a high test statistic and p-value to reject the null hypothesis that $H_0 \\: : \\: \\mu_d = 0$, i.e., there is a significant difference between the incongruent and congruent task completion times. However, after removing outliers in our data set of differences $D$, the new data set $\\hat{D}$ did not meet our qualitative and quantitative goodness-of-fit tests, and so we resorted to a non-parametric test, specifically the Wilcoxon signed rank test, which does not assume a normal distribution and is resistant to outliers. After formulating a null hypothesis that the null distribution is symmetric about 0, our test shows that the data and its p-value, $p =1.8216\\text{x}10^{-05}$, is in the critical region of $\\alpha = 0.05$, showing significant evidence to reject the null and show a treatment effect for a null distribution not symmetric around 0, which implies that the difference set is most likely positive and that there is a significant difference between incongruent and congruent completion times. As such, both parametric and non-parametric approaches support this decision, which asserts the existence of associative inhibition in trying to assign reading color names with different colors."
   ]
  },
  {
   "cell_type": "markdown",
   "metadata": {},
   "source": [
    "### References:\n",
    "\n",
    "1. [Stroop Effect Personal Test](https://faculty.washington.edu/chudler/java/ready.html)\n",
    "\n",
    "2. [Stroop Effect Website](https://faculty.washington.edu/chudler/words.html#seffect)\n",
    "\n",
    "3. [The anterior cingulate cortex mediates processing selection in the Stroop attentional conflict paradigm](http://www.pnas.org/content/87/1/256.full.pdf)\n",
    "\n",
    "4. [Stroop and Picture-Word Interference are two sides of the same coin](https://link.springer.com/content/pdf/10.3758%2FPBR.16.6.987.pdf)\n",
    "\n",
    "5. [Stroop Original Paper](http://psychclassics.yorku.ca/Stroop/)\n",
    "\n",
    "6. [Paired Sample T-Test](http://www.statisticssolutions.com/manova-analysis-paired-sample-t-test/)\n",
    "\n",
    "7. Rice, John A. *Mathematical Statistics and Data Analysis*. Belmont, CA: Thomson/Brooks/Cole, 2007, pp. 370-359, 444-459.\n",
    "\n",
    "8. [Within-Subject Design](https://web.mst.edu/~psyworld/within_subjects.htm)\n",
    "\n",
    "9. [Scipy Kurtosis Test Documentation](https://docs.scipy.org/doc/scipy/reference/generated/scipy.stats.kurtosistest.html#scipy.stats.kurtosistest)\n",
    "\n",
    "10. [T-Table for One-Tailed and Two-Tailed Tests](http://www.statisticshowto.com/tables/t-distribution-table/)\n",
    "\n",
    "11. [Wilcoxon Signed Rank Test Assumptions](http://www.statisticssolutions.com/assumptions-of-the-wilcox-sign-test/)\n",
    "\n",
    "12. [Wilcoxon Signed Rank Test Table](http://www.stat.ufl.edu/~winner/tables/wilcox_signrank.pdf)"
   ]
  },
  {
   "cell_type": "code",
   "execution_count": null,
   "metadata": {
    "collapsed": true
   },
   "outputs": [],
   "source": []
  }
 ],
 "metadata": {
  "kernelspec": {
   "display_name": "Python 2",
   "language": "python",
   "name": "python2"
  },
  "language_info": {
   "codemirror_mode": {
    "name": "ipython",
    "version": 2
   },
   "file_extension": ".py",
   "mimetype": "text/x-python",
   "name": "python",
   "nbconvert_exporter": "python",
   "pygments_lexer": "ipython2",
   "version": "2.7.13"
  }
 },
 "nbformat": 4,
 "nbformat_minor": 2
}
